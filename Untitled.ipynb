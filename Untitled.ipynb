{
 "cells": [
  {
   "cell_type": "markdown",
   "id": "82301b7e-08d9-41ae-b21c-0cacc8ca500e",
   "metadata": {},
   "source": [
    "1. BUSINESS UNDERSTANDING\n",
    "1.1.1 Overview\n",
    "SyriaTel is the leading communications company in the region and most customers are happy with its services.However,recently,they have been facing a spike in customer churn.As the lead data scientist tasked to analyze this trend and predict the churn rate,I understand that this task is crucial in helping Syriatel enhance customer retention,establish market dominance,foster customer obsession and improve their revenue.\n",
    "\n",
    "It is also true that it is effective to retain existing customers than to get new ones.Happy clients bring more clients and disgruntled ones lower the company's Net Promoter Score."
   ]
  },
  {
   "cell_type": "code",
   "execution_count": null,
   "id": "2ae5075e-2746-4b80-b4c5-c6c967ef1f2f",
   "metadata": {},
   "outputs": [],
   "source": []
  }
 ],
 "metadata": {
  "kernelspec": {
   "display_name": "Python 3 (ipykernel)",
   "language": "python",
   "name": "python3"
  },
  "language_info": {
   "codemirror_mode": {
    "name": "ipython",
    "version": 3
   },
   "file_extension": ".py",
   "mimetype": "text/x-python",
   "name": "python",
   "nbconvert_exporter": "python",
   "pygments_lexer": "ipython3",
   "version": "3.12.7"
  }
 },
 "nbformat": 4,
 "nbformat_minor": 5
}
